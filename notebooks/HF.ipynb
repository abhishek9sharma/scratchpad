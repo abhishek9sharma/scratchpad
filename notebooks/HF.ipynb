{
 "cells": [
  {
   "cell_type": "code",
   "execution_count": null,
   "id": "f4eb06d3-cc8c-4d9d-8877-2e5f4f93f410",
   "metadata": {},
   "outputs": [],
   "source": [
    "#!pip install transformers\n",
    "#!pip install transformers torch fastapi uvicorn\n"
   ]
  },
  {
   "cell_type": "code",
   "execution_count": null,
   "id": "3c37c4c7-0a0f-4417-9154-55b0e60395da",
   "metadata": {},
   "outputs": [],
   "source": [
    "%load_ext autoreload\n",
    "%autoreload 2\n"
   ]
  },
  {
   "cell_type": "code",
   "execution_count": null,
   "id": "fc69244a-8606-4f5c-ad69-709717b548a6",
   "metadata": {},
   "outputs": [],
   "source": [
    "import sys, os\n",
    "root_folder = os.path.join(os.getcwd(),\"..\")\n",
    "sys.path.append(root_folder)"
   ]
  },
  {
   "cell_type": "code",
   "execution_count": null,
   "id": "9002d85e-e9f5-4c3f-9ea3-11d23b02540c",
   "metadata": {},
   "outputs": [],
   "source": [
    "# Load the model from the local folder\n",
    "from src.hfmodels.utils import *\n",
    "model_path = \"/scratchpad/data/models/codegen-350M-mono\"\n",
    "loaded_model, loaded_tokenizer, device = load_artefacts(model_path, model_class=CodeGenForCausalLM)\n",
    "generate_tokens(loaded_model, loaded_tokenizer, device, \"def add_numbers(a,b)\")\n"
   ]
  },
  {
   "cell_type": "code",
   "execution_count": null,
   "id": "40c61885-7d9a-4e2c-838d-a4d67a4a701e",
   "metadata": {},
   "outputs": [],
   "source": []
  }
 ],
 "metadata": {
  "kernelspec": {
   "display_name": "Python 3 (ipykernel)",
   "language": "python",
   "name": "python3"
  },
  "language_info": {
   "codemirror_mode": {
    "name": "ipython",
    "version": 3
   },
   "file_extension": ".py",
   "mimetype": "text/x-python",
   "name": "python",
   "nbconvert_exporter": "python",
   "pygments_lexer": "ipython3",
   "version": "3.10.11"
  }
 },
 "nbformat": 4,
 "nbformat_minor": 5
}
