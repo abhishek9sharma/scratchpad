{
 "cells": [
  {
   "cell_type": "code",
   "execution_count": 1,
   "id": "4493cf30-a6e8-4981-8853-f3914ed4f139",
   "metadata": {},
   "outputs": [
    {
     "name": "stderr",
     "output_type": "stream",
     "text": [
      "/opt/conda/lib/python3.10/site-packages/tqdm/auto.py:21: TqdmWarning: IProgress not found. Please update jupyter and ipywidgets. See https://ipywidgets.readthedocs.io/en/stable/user_install.html\n",
      "  from .autonotebook import tqdm as notebook_tqdm\n"
     ]
    }
   ],
   "source": [
    "import ray"
   ]
  },
  {
   "cell_type": "code",
   "execution_count": 2,
   "id": "d2c41e59-4626-4b55-b477-ffc36b2d6161",
   "metadata": {},
   "outputs": [
    {
     "data": {
      "text/plain": [
       "'Running on 4688763a1b47 in pid 22128'"
      ]
     },
     "execution_count": 2,
     "metadata": {},
     "output_type": "execute_result"
    }
   ],
   "source": [
    "def hi():\n",
    "    import os\n",
    "    import socket\n",
    "    return f\"Running on {socket.gethostname()} in pid {os.getpid()}\"\n",
    "\n",
    "hi()"
   ]
  },
  {
   "cell_type": "code",
   "execution_count": 3,
   "id": "5e9704ed-5b2b-4af3-b9d7-89c8f9bb3de3",
   "metadata": {},
   "outputs": [
    {
     "name": "stderr",
     "output_type": "stream",
     "text": [
      "2023-07-08 07:44:14,356\tWARNING services.py:1826 -- WARNING: The object store is using /tmp instead of /dev/shm because /dev/shm has only 67104768 bytes available. This will harm performance! You may be able to free up space by deleting files in /dev/shm. If you are inside a Docker container, you can increase /dev/shm size by passing '--shm-size=5.52gb' to 'docker run' (or add it to the run_options list in a Ray cluster config). Make sure to set this to more than 30% of available RAM.\n",
      "2023-07-08 07:44:14,473\tINFO worker.py:1627 -- Started a local Ray instance. View the dashboard at \u001b[1m\u001b[32m127.0.0.1:8265 \u001b[39m\u001b[22m\n"
     ]
    }
   ],
   "source": [
    "@ray.remote\n",
    "def remote_hi():\n",
    "    import os\n",
    "    import socket\n",
    "    return f\"Running on {socket.gethostname()} in pid {os.getpid()}\"\n",
    "\n",
    "future = remote_hi.remote()\n"
   ]
  },
  {
   "cell_type": "code",
   "execution_count": 4,
   "id": "a5ddd5da-3471-4f8e-912c-8aae81059503",
   "metadata": {},
   "outputs": [
    {
     "data": {
      "text/plain": [
       "'Running on 4688763a1b47 in pid 22285'"
      ]
     },
     "execution_count": 4,
     "metadata": {},
     "output_type": "execute_result"
    }
   ],
   "source": [
    "ray.get(future)"
   ]
  },
  {
   "cell_type": "code",
   "execution_count": 5,
   "id": "783e17df-e67a-40cc-9f35-defee25905ac",
   "metadata": {},
   "outputs": [],
   "source": [
    "import timeit\n",
    "\n",
    "\n",
    "\n",
    "def slow_task(x):\n",
    "    import time\n",
    "    print(x)\n",
    "    time.sleep(0.5) # Do something sciency/business\n",
    "    return x\n",
    "\n",
    "@ray.remote\n",
    "def remote_task(x):\n",
    "    xstr = str(x) + \"_remote\"\n",
    "    #print(xstr)\n",
    "    return slow_task(xstr) \n"
   ]
  },
  {
   "cell_type": "code",
   "execution_count": 6,
   "id": "810e7d5d-f612-4394-a437-004da62edd76",
   "metadata": {},
   "outputs": [
    {
     "name": "stdout",
     "output_type": "stream",
     "text": [
      "0\n",
      "1\n",
      "2\n",
      "3\n",
      "4\n",
      "5\n",
      "6\n",
      "7\n",
      "8\n",
      "9\n",
      "\u001b[2m\u001b[36m(remote_task pid=22285)\u001b[0m 0_remote\n",
      "In sequence 5.007652811000298, in parallel 1.1269431339997027\n"
     ]
    }
   ],
   "source": [
    "things = range(10)\n",
    "\n",
    "very_slow_result = map(slow_task, things)\n",
    "slow_time = timeit.timeit(lambda: list(very_slow_result), number=1)\n",
    "\n",
    "slowish_result = map(lambda x: remote_task.remote(x), things)\n",
    "fast_time = timeit.timeit(lambda: list(ray.get(list(slowish_result))), number=1)\n",
    "print(f\"In sequence {slow_time}, in parallel {fast_time}\")\n"
   ]
  },
  {
   "cell_type": "code",
   "execution_count": 7,
   "id": "eb2a70e0-beeb-4c59-b9d6-48846594cd87",
   "metadata": {},
   "outputs": [
    {
     "data": {
      "text/plain": [
       "[]"
      ]
     },
     "execution_count": 7,
     "metadata": {},
     "output_type": "execute_result"
    }
   ],
   "source": [
    "list(very_slow_result)"
   ]
  },
  {
   "cell_type": "code",
   "execution_count": 9,
   "id": "57e1b532-e02f-4d97-aefe-fde74b1b3703",
   "metadata": {},
   "outputs": [],
   "source": [
    "urls = ray.data.from_items([\n",
    "    \"https://github.com/scalingpythonml/scalingpythonml\",\n",
    "    \"https://github.com/ray-project/ray\"])\n",
    "\n",
    "def fetch_page(url):\n",
    "    import requests\n",
    "    f = requests.get(url)\n",
    "    return f.text\n",
    "\n",
    "pages = urls.map(fetch_page)\n",
    "# pages.take(1)"
   ]
  },
  {
   "cell_type": "code",
   "execution_count": 12,
   "id": "bb2abbf7-9a9c-4ee8-a4f6-f66218697d51",
   "metadata": {},
   "outputs": [],
   "source": [
    "# words = pages.flat_map(lambda x: x.split(\" \")).map(lambda w: (w, 1))\n",
    "# grouped_words = words.groupby(lambda wc: wc[0])"
   ]
  },
  {
   "cell_type": "code",
   "execution_count": 13,
   "id": "6378a5ec-9879-400b-b28c-9f6b463d7f45",
   "metadata": {},
   "outputs": [
    {
     "name": "stdout",
     "output_type": "stream",
     "text": [
      "Hi user #1\n",
      "Hi user #2\n"
     ]
    },
    {
     "name": "stderr",
     "output_type": "stream",
     "text": [
      "2023-07-08 09:01:25,343\tWARNING worker.py:2019 -- Raylet is terminated: ip=172.19.0.2, id=821fc610503c6098e5de1c174f36cb82344716ec71fd7c2c5c7790c3. Termination is unexpected. Possible reasons include: (1) SIGKILL by the user or system OOM killer, (2) Invalid memory access from Raylet causing SIGSEGV or SIGBUS, (3) Other termination signals. Last 20 lines of the Raylet logs:\n",
      "    [state-dump] \tInternalPubSubGcsService.grpc_client.GcsSubscriberPoll - 7 total (1 active), CPU time: mean = 89.979 us, total = 629.852 us\n",
      "    [state-dump] \tNodeManagerService.grpc_server.PinObjectIDs - 7 total (0 active), CPU time: mean = 236.199 us, total = 1.653 ms\n",
      "    [state-dump] \tSubscriber.HandlePublishedMessage_WORKER_OBJECT_LOCATIONS_CHANNEL - 5 total (0 active), CPU time: mean = 3.135 us, total = 15.676 us\n",
      "    [state-dump] \tSubscriber.HandlePublishedMessage_WORKER_OBJECT_EVICTION - 4 total (0 active), CPU time: mean = 77.478 us, total = 309.910 us\n",
      "    [state-dump] \tWorkerInfoGcsService.grpc_client.ReportWorkerFailure - 2 total (0 active), CPU time: mean = 17.210 us, total = 34.420 us\n",
      "    [state-dump] \tSubscriber.HandlePublishedMessage_GCS_WORKER_DELTA_CHANNEL - 2 total (0 active), CPU time: mean = 4.885 us, total = 9.770 us\n",
      "    [state-dump] \tCoreWorkerService.grpc_client.Exit - 2 total (0 active), CPU time: mean = 12.753 us, total = 25.506 us\n",
      "    [state-dump] \tInternalPubSubGcsService.grpc_client.GcsSubscriberCommandBatch - 2 total (0 active), CPU time: mean = 51.831 us, total = 103.661 us\n",
      "    [state-dump] \tRaySyncerRegister - 2 total (0 active), CPU time: mean = 7.256 us, total = 14.512 us\n",
      "    [state-dump] \tNodeInfoGcsService.grpc_client.RegisterNode - 1 total (0 active), CPU time: mean = 144.565 us, total = 144.565 us\n",
      "    [state-dump] \tJobInfoGcsService.grpc_client.AddJob - 1 total (0 active), CPU time: mean = 30.329 us, total = 30.329 us\n",
      "    [state-dump] \tJobInfoGcsService.grpc_client.GetAllJobInfo - 1 total (0 active), CPU time: mean = 8.890 us, total = 8.890 us\n",
      "    [state-dump] \tAgentManagerService.grpc_server.RegisterAgent - 1 total (0 active), CPU time: mean = 176.077 us, total = 176.077 us\n",
      "    [state-dump] \tNodeInfoGcsService.grpc_client.GetInternalConfig - 1 total (0 active), CPU time: mean = 7.963 ms, total = 7.963 ms\n",
      "    [state-dump] \tNodeInfoGcsService.grpc_client.GetAllNodeInfo - 1 total (0 active), CPU time: mean = 112.175 us, total = 112.175 us\n",
      "    [state-dump] \tSubscriber.HandlePublishedMessage_GCS_JOB_CHANNEL - 1 total (0 active), CPU time: mean = 25.249 us, total = 25.249 us\n",
      "    [state-dump] DebugString() time ms: 0\n",
      "    [state-dump] \n",
      "    [state-dump] \n",
      "    [2023-07-08 09:01:24,013 I 22231 22231] (raylet) node_manager.cc:658: Sending Python GC request to 9 local workers to clean up Python cyclic references.\n",
      "\n",
      "\u001b[2m\u001b[33m(raylet)\u001b[0m [2023-07-08 09:01:25,560 E 22231 22263] (raylet) agent_manager.cc:135: The raylet exited immediately because the Ray agent failed. The raylet fate shares with the agent. This can happen because the Ray agent was unexpectedly killed or failed. Agent can fail when\n",
      "\u001b[2m\u001b[33m(raylet)\u001b[0m - The version of `grpcio` doesn't follow Ray's requirement. Agent can segfault with the incorrect `grpcio` version. Check the grpcio version `pip freeze | grep grpcio`.\n",
      "\u001b[2m\u001b[33m(raylet)\u001b[0m - The agent failed to start because of unexpected error or port conflict. Read the log `cat /tmp/ray/session_latest/logs/dashboard_agent.log`. You can find the log file structure here https://docs.ray.io/en/master/ray-observability/ray-logging.html#logging-directory-structure.\n",
      "\u001b[2m\u001b[33m(raylet)\u001b[0m - The agent is killed by the OS (e.g., out of memory).\n",
      "[2023-07-08 09:01:25,724 E 22128 22279] core_worker.cc:572: :info_message: Attempting to recover 3 lost objects by resubmitting their tasks. To disable object reconstruction, set @ray.remote(max_retries=0).\n"
     ]
    }
   ],
   "source": [
    "@ray.remote\n",
    "class HelloWorld(object):\n",
    "    def __init__(self):\n",
    "        self.value = 0\n",
    "    def greet(self):\n",
    "        self.value += 1\n",
    "        return f\"Hi user #{self.value}\"\n",
    "\n",
    "# Make an instance of the actor\n",
    "hello_actor = HelloWorld.remote()\n",
    "\n",
    "# Call the actor\n",
    "print(ray.get(hello_actor.greet.remote()))\n",
    "print(ray.get(hello_actor.greet.remote()))"
   ]
  },
  {
   "cell_type": "code",
   "execution_count": null,
   "id": "9a356305-acb1-4efe-ae23-b74a2a023cf2",
   "metadata": {},
   "outputs": [],
   "source": []
  }
 ],
 "metadata": {
  "kernelspec": {
   "display_name": "Python 3 (ipykernel)",
   "language": "python",
   "name": "python3"
  },
  "language_info": {
   "codemirror_mode": {
    "name": "ipython",
    "version": 3
   },
   "file_extension": ".py",
   "mimetype": "text/x-python",
   "name": "python",
   "nbconvert_exporter": "python",
   "pygments_lexer": "ipython3",
   "version": "3.10.12"
  }
 },
 "nbformat": 4,
 "nbformat_minor": 5
}
